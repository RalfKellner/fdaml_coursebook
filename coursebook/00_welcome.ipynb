{
 "cells": [
  {
   "cell_type": "markdown",
   "metadata": {},
   "source": [
    "# Introduction\n",
    "\n",
    "Financial Data Analytics (FDA) refers to the process of analyzing and interpreting various forms of financial data to gain insights, make predictions and support decision-making. This process involves the use of statistical, mathematical, and computational techniques to analyze trends, patterns, and anomalies within financial data sets. FDA is employed across a wide range of applications, including investment strategies, portfolio management, risk management and market analysis. FDA uses data from various sources, such as stock prices, bond markets, derivatives markets, cryptocurrrencies, financial statements, economic indicators, and transaction records, to inform better business decisions.\n",
    "\n",
    "In general, domain specific data analytics always depends on two important knowledge sources: (1) data analytics in general which includes techniques from descriptive and inferential statistics as well as statistical learning, i.e. machine and deep learning. (2) the domain specific knowledge which is crucial for collecting appropriate data, preprocessing and model it the right way and to draw insightful interpretations from the results of your analysis.\n",
    "\n",
    "This is why we aim to unite those two channels in this course. After this course, my goal is that you:\n",
    "\n",
    "* have a fundamental understanding of important assets on financial markets\n",
    "* understand principles of statistical models and how they can be utilized for empirical financial data analysis\n",
    "* understand principles of machine learing and how it can be used in the financial domain"
   ]
  }
 ],
 "metadata": {
  "language_info": {
   "name": "python"
  }
 },
 "nbformat": 4,
 "nbformat_minor": 2
}
